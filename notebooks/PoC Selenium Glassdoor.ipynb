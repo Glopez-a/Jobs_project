{
 "cells": [
  {
   "cell_type": "code",
   "execution_count": 6,
   "id": "f6fc9c80",
   "metadata": {},
   "outputs": [],
   "source": [
    "import random\n",
    "import time\n",
    "import pandas as pd\n",
    "\n",
    "from selenium import webdriver\n",
    "from selenium.webdriver.common.by import By\n",
    "from selenium.webdriver.common.keys import Keys\n",
    "from selenium.webdriver.chrome.service import Service\n",
    "\n",
    "\n",
    "from io import BytesIO"
   ]
  },
  {
   "cell_type": "code",
   "execution_count": 2,
   "id": "43f0626f",
   "metadata": {},
   "outputs": [
    {
     "data": {
      "text/plain": [
       "selenium.webdriver.chrome.webdriver.WebDriver"
      ]
     },
     "execution_count": 2,
     "metadata": {},
     "output_type": "execute_result"
    }
   ],
   "source": [
    "path = './requirements/chromedriver'\n",
    "service = Service(executable_path=path)\n",
    "driver = webdriver.Chrome(service=service)\n",
    "type(driver)"
   ]
  },
  {
   "cell_type": "code",
   "execution_count": 3,
   "id": "c9f91a8b",
   "metadata": {},
   "outputs": [],
   "source": [
    "# Navigate to...\n",
    "\n",
    "url = 'https://www.glassdoor.com/'\n",
    "driver.get(url)\n",
    "driver.maximize_window()"
   ]
  },
  {
   "cell_type": "code",
   "execution_count": null,
   "id": "e55bc681",
   "metadata": {},
   "outputs": [],
   "source": [
    "buttons = driver.find_elements(by=By.TAG_NAME, value=\"button\")\n",
    "buttons"
   ]
  },
  {
   "cell_type": "code",
   "execution_count": null,
   "id": "c88e3b9b",
   "metadata": {},
   "outputs": [],
   "source": [
    "body = driver.find_element(by=By.TAG_NAME, value='body')\n",
    "body.send_keys(Keys.PAGE_DOWN)"
   ]
  },
  {
   "cell_type": "code",
   "execution_count": null,
   "id": "1e13427e",
   "metadata": {},
   "outputs": [],
   "source": [
    "body.send_keys(Keys.PAGE_DOWN)"
   ]
  },
  {
   "cell_type": "code",
   "execution_count": null,
   "id": "c66fd23a",
   "metadata": {},
   "outputs": [],
   "source": [
    "posts = driver.find_elements(by=By.CLASS_NAME, value='ad.cw')\n",
    "len(posts)"
   ]
  },
  {
   "cell_type": "code",
   "execution_count": null,
   "id": "dcef04ee",
   "metadata": {},
   "outputs": [],
   "source": [
    "posts"
   ]
  },
  {
   "cell_type": "code",
   "execution_count": 4,
   "id": "014d5c97",
   "metadata": {},
   "outputs": [
    {
     "data": {
      "text/plain": [
       "<selenium.webdriver.remote.webelement.WebElement (session=\"0b0e8d9a72fbc7cea9b18356ce19cc5d\", element=\"ca121927-ac2e-40d1-bbc9-d9e642db03d3\")>"
      ]
     },
     "execution_count": 4,
     "metadata": {},
     "output_type": "execute_result"
    }
   ],
   "source": [
    "content = driver.find_element(By.XPATH, \"//h2[@data-test='employer-short-name']\")\n",
    "content"
   ]
  },
  {
   "cell_type": "code",
   "execution_count": 5,
   "id": "107f3022",
   "metadata": {},
   "outputs": [
    {
     "data": {
      "text/plain": [
       "'Amazon'"
      ]
     },
     "execution_count": 5,
     "metadata": {},
     "output_type": "execute_result"
    }
   ],
   "source": [
    "content.text"
   ]
  },
  {
   "cell_type": "code",
   "execution_count": 6,
   "id": "12e104d4",
   "metadata": {},
   "outputs": [],
   "source": [
    "h2 = driver.find_elements(By.TAG_NAME, \"h2\")"
   ]
  },
  {
   "cell_type": "code",
   "execution_count": 18,
   "id": "8dae26da",
   "metadata": {},
   "outputs": [],
   "source": [
    "companies = []\n",
    "for i in h2:\n",
    "    if i.get_attribute('data-test') == \"employer-short-name\":\n",
    "        companies.append(i.text)"
   ]
  },
  {
   "cell_type": "code",
   "execution_count": 19,
   "id": "e4850fb4",
   "metadata": {},
   "outputs": [
    {
     "data": {
      "text/plain": [
       "['Amazon',\n",
       " 'Accenture',\n",
       " 'Deloitte',\n",
       " 'PwC',\n",
       " 'EY',\n",
       " 'KPMG',\n",
       " 'IBM',\n",
       " 'Santander',\n",
       " 'Capgemini',\n",
       " \"McDonald's\"]"
      ]
     },
     "execution_count": 19,
     "metadata": {},
     "output_type": "execute_result"
    }
   ],
   "source": [
    "companies"
   ]
  },
  {
   "cell_type": "code",
   "execution_count": null,
   "id": "1a8a3ebd",
   "metadata": {},
   "outputs": [],
   "source": [
    "<button aria-label=\"Next\""
   ]
  },
  {
   "cell_type": "code",
   "execution_count": 20,
   "id": "b4b46192",
   "metadata": {},
   "outputs": [
    {
     "data": {
      "text/plain": [
       "<selenium.webdriver.remote.webelement.WebElement (session=\"0b0e8d9a72fbc7cea9b18356ce19cc5d\", element=\"4bad1a2b-9765-40ee-b650-323095633191\")>"
      ]
     },
     "execution_count": 20,
     "metadata": {},
     "output_type": "execute_result"
    }
   ],
   "source": [
    "next_button = driver.find_element(By.XPATH, \"//button[@aria-label='Next']\")\n",
    "next_button"
   ]
  },
  {
   "cell_type": "code",
   "execution_count": 21,
   "id": "8232c5c6",
   "metadata": {},
   "outputs": [],
   "source": [
    "next_button.click()"
   ]
  },
  {
   "cell_type": "code",
   "execution_count": 16,
   "id": "cb39ad16",
   "metadata": {},
   "outputs": [],
   "source": [
    "companies = []\n",
    "\n",
    "\n",
    "while True:\n",
    "    h2 = driver.find_elements(By.TAG_NAME, \"h2\")\n",
    "    stop = len(companies)\n",
    "    for i in h2:\n",
    "        if i.get_attribute('data-test') == \"employer-short-name\":\n",
    "            companies.append(i.text)\n",
    "    df = pd.DataFrame(companies, columns=['Companies'])\n",
    "    df.to_csv(\"./companies.csv\")\n",
    "    if stop == len(companies):\n",
    "        break\n",
    "    next_button = driver.find_element(By.XPATH, \"//button[@aria-label='Next']\")\n",
    "    next_button.click()\n",
    "    time.sleep(5)\n",
    "    "
   ]
  },
  {
   "cell_type": "code",
   "execution_count": 15,
   "id": "899a9a9d",
   "metadata": {},
   "outputs": [
    {
     "name": "stdout",
     "output_type": "stream",
     "text": [
      "['Philip Morris International', 'Barclays', 'Enterprise', 'adidas', 'Marriott International', 'Revolut', 'HP Inc.', 'Securitas', 'Prosegur', 'Capgemini Invent', 'ABB', 'Eli Lilly and Company', 'Mercedes-Benz Group', 'Ryanair', 'Atento', 'Labcorp', 'ICON', 'ALSTOM', 'Cognizant', 'Pfizer']\n"
     ]
    }
   ],
   "source": [
    "companies = []\n",
    "h2 = driver.find_elements(By.TAG_NAME, \"h2\")\n",
    "for i in h2:\n",
    "    if i.get_attribute('data-test') == \"employer-short-name\":\n",
    "        companies.append(i.text)\n",
    "\n",
    "next_button = driver.find_element(By.XPATH, \"//button[@aria-label='Next']\")\n",
    "next_button.click()\n",
    "time.sleep(3)\n",
    "h2 = driver.find_elements(By.TAG_NAME, \"h2\")\n",
    "for i in h2:\n",
    "    if i.get_attribute('data-test') == \"employer-short-name\":\n",
    "        companies.append(i.text)\n",
    "\n",
    "next_button = driver.find_element(By.XPATH, \"//button[@aria-label='Next']\")\n",
    "next_button.click()\n",
    "print(companies)"
   ]
  },
  {
   "cell_type": "code",
   "execution_count": null,
   "id": "eb384e83",
   "metadata": {},
   "outputs": [],
   "source": []
  }
 ],
 "metadata": {
  "kernelspec": {
   "display_name": "Python [conda env:final_env]",
   "language": "python",
   "name": "conda-env-final_env-py"
  },
  "language_info": {
   "codemirror_mode": {
    "name": "ipython",
    "version": 3
   },
   "file_extension": ".py",
   "mimetype": "text/x-python",
   "name": "python",
   "nbconvert_exporter": "python",
   "pygments_lexer": "ipython3",
   "version": "3.11.3"
  }
 },
 "nbformat": 4,
 "nbformat_minor": 5
}
