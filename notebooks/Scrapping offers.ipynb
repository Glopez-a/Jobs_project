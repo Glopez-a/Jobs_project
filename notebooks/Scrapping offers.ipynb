{
 "cells": [
  {
   "cell_type": "code",
   "execution_count": 4,
   "id": "98910ee9",
   "metadata": {},
   "outputs": [],
   "source": [
    "import random\n",
    "import time\n",
    "import pandas as pd\n",
    "import requests\n",
    "\n",
    "import chromedriver_autoinstaller \n",
    "from selenium import webdriver\n",
    "from selenium.webdriver.common.by import By\n",
    "from selenium.webdriver.common.keys import Keys\n",
    "from selenium.webdriver.chrome.service import Service"
   ]
  },
  {
   "cell_type": "code",
   "execution_count": 5,
   "id": "f35dc731",
   "metadata": {},
   "outputs": [],
   "source": [
    "path = './requirements/chromedriver'\n",
    "service = Service(executable_path=path)\n",
    "driver = webdriver.Chrome(service=service)"
   ]
  },
  {
   "cell_type": "code",
   "execution_count": 6,
   "id": "69ec3ad9",
   "metadata": {},
   "outputs": [],
   "source": [
    "driver.get(\"https://www.linkedin.com/jobs/view/3668634659\")"
   ]
  },
  {
   "cell_type": "code",
   "execution_count": 7,
   "id": "0bda69cf",
   "metadata": {},
   "outputs": [],
   "source": [
    "driver.maximize_window()"
   ]
  },
  {
   "cell_type": "code",
   "execution_count": 16,
   "id": "dc0995c4",
   "metadata": {
    "scrolled": true
   },
   "outputs": [
    {
     "name": "stdout",
     "output_type": "stream",
     "text": [
      "Aceptar\n",
      "Rechazar\n",
      "\n",
      "Empleos\n",
      "\n",
      "\n",
      "\n",
      "\n",
      "\n",
      "\n",
      "\n",
      "\n",
      "\n",
      "\n",
      "\n",
      "\n",
      "\n",
      "Solicitar\n",
      "Guardar\n",
      "\n",
      "\n",
      "\n",
      "\n",
      "\n",
      "Mostrar más\n",
      "Hola\n",
      "\n",
      "Mostrar menos\n",
      "Ver más empleos como este\n",
      "\n",
      "\n",
      "\n",
      "\n",
      "\n",
      "\n",
      "\n",
      "\n",
      "\n",
      "\n",
      "\n",
      "\n",
      "\n",
      "\n",
      "\n",
      "\n",
      "\n",
      "\n",
      "\n",
      "\n",
      "\n",
      "\n",
      "\n",
      "\n",
      "\n",
      "\n",
      "\n",
      "Idioma\n",
      "\n",
      "\n",
      "\n",
      "\n",
      "\n",
      "\n",
      "\n"
     ]
    }
   ],
   "source": [
    "buttons = driver.find_elements(by=By.TAG_NAME, value='button')\n",
    "for i in buttons:\n",
    "    print(i.text)\n",
    "    if i.text == \"Mostrar más\":\n",
    "        print(\"Hola\\n\")\n",
    "        i.click()"
   ]
  },
  {
   "cell_type": "code",
   "execution_count": 19,
   "id": "955474a1",
   "metadata": {},
   "outputs": [
    {
     "data": {
      "text/plain": [
       "'¡Hola! Te estábamos esperando. Sí, sí, a ti, personas con ganas de comenzar nuevas aventuras profesionales y con curiosidad por saber cómo sería un futuro en Next. Sabemos que te apasiona la tecnología, ¿pero a que además te gustaría trabajar en un sitio donde el aprendizaje constante y la compartición del conocimiento es parte de nuestro ADN? #shareyourbrain 🧠.\\n\\nSomos BBVA Next Technologies, compañía del Grupo BBVA experta en Ingeniería de software y nuevas tecnologías. Trabajamos a nivel global, desde nuestras sedes en Madrid y Bilbao, con el objetivo de ser protagonistas principales de la #transformacióndigital de BBVA.\\nSomos un equipo diverso e inclusivo. Inconformistas y comprometidos 🌍.\\n\\nImpulsamos nuestro plan de igualdad con nuestras referentes @NextTechWoman, tenemos un plan de inclusión de la discapacidad, hacemos encuentros por la diversidad con nuestros @NextEmbajadores, potenciamos la economía circular y disfrutamos con el voluntariado.\\nLlegarás y sentirás el buen rollo; nuestros #Nexters han puntuado con un 9.06 el compañerismo y buen ambiente que tenemos. Y además, por qué ocultarlo… se nos da muy bien celebrar y montar buenos saraos 😎.\\n\\nSi te gusta todo lo que has leído hasta el momento, continúa para ver si hacemos match 💙.\\n\\n🔎¿Qué estamos buscando?\\n\\nData Engineer con conocimientos en Python y en soluciones cloud con AWS.\\nAlguien capaz de ayudar en el desarrollo de arquitecturas de datos, principalmente con Spark y Python.\\nUna persona que esté dispuesta a participar en la toma de requisitos y el análisis funcional de las necesidades de negocio, siendo capaz de dar una solución técnica a los requisitos funcionales.\\n\\n✨Qué esperamos de ti✨\\n\\nTrabajarás dentro de Enterprise Tech & Data, donde se ponen a disposición los datos para que puedan ser consumidos por otras áreas. Participarás en la ingesta, el almacenamiento, el procesado y la disponibilización de datos, por lo que necesitarás conocer las siguientes tecnologías:\\n\\nPython\\nSpark o AWS Glue\\nArquitecturas de datos sobre AWS\\nAurora y/o Redshift\\nTerraform y/o ansible\\nAWS Step Function\\nAPI Rest\\n\\nA nivel de soft skills, también valoramos:\\n\\nCapacidad de análisis y de resolución de problemas\\nProactividad y liderazgo\\nHabilidades comunicativas a nivel de negocio\\nTrabajo en equipo y colaborativo\\n\\n📍Ubicación: Madrid.\\n\\n💙Qué tenemos para ti\\n\\n2000€ anuales para seguir formándote dentro de tu horario laboral y alimentar esa curiosidad infinita que tanto nos gusta!! Tenemos un modelo de formación que te aseguramos que te va a gustar y mucho.\\n\\nCreemos en tu desarrollo profesional. Lo cuidamos con un modelo de talento donde podrás evolucionar a través de la experiencia, logros y habilidades que irás adquiriendo dentro de Next.\\n\\nContrato indefinido en una compañía 100% digital, tecnológica y en un grupo financiero líder internacional.\\n\\n¡30 días de vacaciones al año! Jornada intensiva los viernes y dos meses de verano.\\n\\nUn modelo de teletrabajo perfecto para la conciliación y disfrute de tu tiempo libre, por eso ofrecemos un modelo híbrido porque el trabajo en remoto nos gusta y mucho. Además, tenemos horario flexible de entrada y salida para que seas tú quien decida cómo organizar tu tiempo.\\n\\nAyudas para familiares con discapacidad gracias a nuestro Programa Plan Familia de la Fundación Adecco.\\n\\nTendrás ayuda alimentaria y ayuda a gastos de teletrabajo.\\n\\nDispondrás de un sistema de retribución flexible (transporte, seguro médico de Sanitas, Movistar...).\\n\\nSer una compañía 100% BBVA tiene sus ventajas como poder disfrutar de todos los productos financieros con condiciones especiales para empleados del Grupo (hipotecas, préstamos, tarjetas, seguros, etc.).\\n\\n¿Te preguntas si tendrás visibilidad? Sí. Favorecemos que puedas asistir a eventos tanto nacionales como internacionales, así como a organizar los tuyos propios open company. Podrás participar en las iniciativas y actividades de la compañía. Y por supuesto, nuestras redes sociales están a disposición de todo el mundo para mostrar lo que vales.\\n\\nEntonces… ¿Qué nos dices? ¿Hacemos match? 😉\\nMostrar menos'"
      ]
     },
     "execution_count": 19,
     "metadata": {},
     "output_type": "execute_result"
    }
   ],
   "source": [
    "driver.find_element(By.XPATH, \"//div[@class='description__text description__text--rich']\").text"
   ]
  },
  {
   "cell_type": "code",
   "execution_count": null,
   "id": "4eac7f4f",
   "metadata": {},
   "outputs": [],
   "source": [
    "<div class=\"description__text description__text--rich\">\n",
    "      \n",
    "    <section class=\"show-more-less-html show-more-less-html--more\" data-max-lines=\"5\">\n",
    "      <div class=\"show-more-less-html__markup relative overflow-hidden\">\n",
    "        <p>¡Hola! Te estábamos esperando. Sí, sí, a ti, personas con ganas de comenzar nuevas aventuras profesionales y con curiosidad por saber cómo sería un futuro en Next. Sabemos que te apasiona la tecnología, ¿pero a que además te gustaría trabajar en un sitio donde el aprendizaje constante y la compartición del conocimiento es parte de nuestro ADN? #shareyourbrain 🧠.</p><p><br></p><p>Somos BBVA Next Technologies, compañía del Grupo BBVA experta en Ingeniería de software y nuevas tecnologías. Trabajamos a nivel global, desde nuestras sedes en Madrid y Bilbao, con el objetivo de ser protagonistas principales de la #transformacióndigital de BBVA.</p><p>Somos un equipo diverso e inclusivo. Inconformistas y comprometidos 🌍.</p><p><br></p><p>Impulsamos nuestro plan de igualdad con nuestras referentes @NextTechWoman, tenemos un plan de inclusión de la discapacidad, hacemos encuentros por la diversidad con nuestros @NextEmbajadores, potenciamos la economía circular y disfrutamos con el voluntariado.</p><p>Llegarás y sentirás el buen rollo; nuestros #Nexters han puntuado con un 9.06 el compañerismo y buen ambiente que tenemos. Y además, por qué ocultarlo… se nos da muy bien celebrar y montar buenos saraos 😎.</p><p><br></p><p>Si te gusta todo lo que has leído hasta el momento, continúa para ver si hacemos match 💙.</p><p><br></p><p>🔎¿Qué estamos buscando?</p><p><br></p><p><strong>Data Engineer</strong> con conocimientos en Python y en soluciones cloud con AWS.</p><p>Alguien capaz de ayudar en el desarrollo de arquitecturas de datos, principalmente con Spark y Python.</p><p>Una persona que esté dispuesta a participar en la toma de requisitos y el análisis funcional de las necesidades de negocio, siendo capaz de dar una solución técnica a los requisitos funcionales.</p><p><br></p><p>✨Qué esperamos de ti✨</p><p><br></p><p>Trabajarás dentro de <em>Enterprise Tech &amp; Data</em>, donde se ponen a disposición los datos para que puedan ser consumidos por otras áreas. Participarás en la ingesta, el almacenamiento, el procesado y la disponibilización de datos, por lo que necesitarás conocer las siguientes tecnologías:</p><p><br></p><ul><li>Python</li><li>Spark o AWS Glue</li><li>Arquitecturas de datos sobre AWS</li><li>Aurora y/o Redshift</li><li>Terraform y/o ansible</li><li>AWS Step Function</li><li>API Rest</li></ul><p><br></p><p>A nivel de soft skills, también valoramos:</p><p><br></p><ul><li>Capacidad de análisis y de resolución de problemas</li><li>Proactividad y liderazgo</li><li>Habilidades comunicativas a nivel de negocio</li><li>Trabajo en equipo y colaborativo</li></ul><p><br></p><p>📍Ubicación: Madrid.</p><p><br></p><p>💙Qué tenemos para ti</p><p><br></p><ul><li>2000€ anuales para seguir formándote dentro de tu horario laboral y alimentar esa curiosidad infinita que tanto nos gusta!! Tenemos un modelo de formación que te aseguramos que te va a gustar y mucho.</li></ul><p><br></p><ul><li>Creemos en tu desarrollo profesional. Lo cuidamos con un modelo de talento donde podrás evolucionar a través de la experiencia, logros y habilidades que irás adquiriendo dentro de Next.</li></ul><p><br></p><ul><li>Contrato indefinido en una compañía 100% digital, tecnológica y en un grupo financiero líder internacional.</li></ul><p><br></p><ul><li>¡30 días de vacaciones al año! Jornada intensiva los viernes y dos meses de verano.</li></ul><p><br></p><ul><li>Un modelo de teletrabajo perfecto para la conciliación y disfrute de tu tiempo libre, por eso ofrecemos un modelo híbrido porque el trabajo en remoto nos gusta y mucho. Además, tenemos horario flexible de entrada y salida para que seas tú quien decida cómo organizar tu tiempo.</li></ul><p><br></p><ul><li>Ayudas para familiares con discapacidad gracias a nuestro Programa Plan Familia de la Fundación Adecco.</li></ul><p><br></p><ul><li>Tendrás ayuda alimentaria y ayuda a gastos de teletrabajo.</li></ul><p><br></p><ul><li>Dispondrás de un sistema de retribución flexible (transporte, seguro médico de Sanitas, Movistar...).</li></ul><p><br></p><ul><li>Ser una compañía 100% BBVA tiene sus ventajas como poder disfrutar de todos los productos financieros con condiciones especiales para empleados del Grupo (hipotecas, préstamos, tarjetas, seguros, etc.).</li></ul><p><br></p><ul><li>¿Te preguntas si tendrás visibilidad? Sí. Favorecemos que puedas asistir a eventos tanto nacionales como internacionales, así como a organizar los tuyos propios <em>open company</em>. Podrás participar en las iniciativas y actividades de la compañía. Y por supuesto, nuestras redes sociales están a disposición de todo el mundo para mostrar lo que vales.</li></ul><p><br></p><p>Entonces… ¿Qué nos dices? ¿Hacemos match? 😉</p>\n",
    "      </div>\n",
    "\n",
    "        \n",
    "\n",
    "    \n",
    "    \n",
    "    \n",
    "\n",
    "    <button class=\"show-more-less-html__button show-more-less-button\n",
    "        show-more-less-html__button--more\n",
    "        !ml-0.5\" data-tracking-control-name=\"public_jobs_show-more-html-btn\" aria-label=\"Mostrar más, se amplía visualmente el contenido de lectura que aparece arriba\" aria-expanded=\"false\">\n",
    "        Mostrar más\n",
    "\n",
    "        <icon class=\"show-more-less-html__button-icon show-more-less-button-icon lazy-loaded\" aria-hidden=\"true\" aria-busy=\"false\"><svg xmlns=\"http://www.w3.org/2000/svg\" width=\"16\" height=\"16\" preserveAspectRatio=\"xMinYMin meet\" focusable=\"false\" class=\"lazy-loaded\" aria-busy=\"false\"><path d=\"M8 9l5.93-4L15 6.54l-6.15 4.2a1.5 1.5 0 01-1.69 0L1 6.54 2.07 5z\" fill=\"currentColor\"></path></svg></icon>\n",
    "    </button>\n",
    "  \n",
    "\n",
    "        \n",
    "\n",
    "    \n",
    "    \n",
    "    \n",
    "\n",
    "    <button class=\"show-more-less-html__button show-more-less-button\n",
    "        show-more-less-html__button--less\n",
    "        !ml-0.5\" data-tracking-control-name=\"public_jobs_show-less-html-btn\" aria-label=\"Mostrar menos\" aria-expanded=\"true\">\n",
    "        Mostrar menos\n",
    "\n",
    "        <icon class=\"show-more-less-html__button-icon show-more-less-button-icon lazy-loaded\" aria-hidden=\"true\" aria-busy=\"false\"><svg xmlns=\"http://www.w3.org/2000/svg\" width=\"16\" height=\"16\" preserveAspectRatio=\"xMinYMin meet\" focusable=\"false\" class=\"lazy-loaded\" aria-busy=\"false\"><path d=\"M8 7l-5.9 4L1 9.5l6.2-4.2c.5-.3 1.2-.3 1.7 0L15 9.5 13.9 11 8 7z\" fill=\"currentColor\"></path></svg></icon>\n",
    "    </button>\n",
    "  \n",
    "    </section>\n",
    "  \n",
    "    </div>\n",
    "        "
   ]
  }
 ],
 "metadata": {
  "kernelspec": {
   "display_name": "Python [conda env:final_env]",
   "language": "python",
   "name": "conda-env-final_env-py"
  },
  "language_info": {
   "codemirror_mode": {
    "name": "ipython",
    "version": 3
   },
   "file_extension": ".py",
   "mimetype": "text/x-python",
   "name": "python",
   "nbconvert_exporter": "python",
   "pygments_lexer": "ipython3",
   "version": "3.11.3"
  }
 },
 "nbformat": 4,
 "nbformat_minor": 5
}
